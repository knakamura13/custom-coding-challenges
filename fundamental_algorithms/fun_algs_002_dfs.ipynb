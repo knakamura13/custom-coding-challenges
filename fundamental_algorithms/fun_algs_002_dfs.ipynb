{
 "cells": [
  {
   "metadata": {},
   "cell_type": "markdown",
   "source": [
    "# Fundamental Algorithm #2: Depth First Search (DFS)\n",
    "\n",
    "Depth First Search (DFS) is an algorithm for traversing or searching tree or graph data structures. It starts at a selected node (often called the 'root') and explores as far as possible along each branch before backtracking. DFS is commonly used in problems that require visiting all nodes in a graph, checking for cycles, or finding connected components. Variants include iterative and recursive implementations, and specialized versions like Topological Sort or Tarjan's Algorithm for strongly connected components.\n",
    "\n",
    "**Algorithm Implementation**\n",
    "\n",
    "1. **Recursive DFS**:\n",
    "   - Start from the root node.\n",
    "   - Mark the current node as visited.\n",
    "   - For each adjacent node, if it hasn't been visited, recursively perform DFS on it.\n",
    "\n",
    "2. **Iterative DFS**:\n",
    "   - Use a stack to manage the nodes.\n",
    "   - Initialize the stack with the root node.\n",
    "   - While the stack is not empty:\n",
    "     - Pop a node from the stack.\n",
    "     - If the node hasn't been visited:\n",
    "       - Mark it as visited.\n",
    "       - Push all adjacent unvisited nodes onto the stack.\n",
    "\n",
    "**Concepts and Data Structures**\n",
    "\n",
    "- Graphs (Directed and Undirected)\n",
    "- Trees (a special case of graphs)\n",
    "- Recursion and Stack\n",
    "- Adjacency Lists and Matrices\n",
    "- Backtracking"
   ],
   "id": "d61c0a49201e226a"
  },
  {
   "metadata": {},
   "cell_type": "markdown",
   "source": [
    "## Simple Implementation - Recursive DFS\n",
    "\n",
    "```python\n",
    "def dfs_recursive(graph, node, visited=None):\n",
    "    if visited is None:\n",
    "        visited = set()\n",
    "    visited.add(node)  # Mark the current node as visited\n",
    "    for neighbor in graph[node]:\n",
    "        if neighbor not in visited:\n",
    "            dfs_recursive(graph, neighbor, visited)\n",
    "    return visited\n",
    "```\n",
    "\n",
    "**Runtime Analysis:**\n",
    "\n",
    "- **Time Complexity:** O(V + E), where V is the number of vertices and E is the number of edges in the graph.\n",
    "- **Space Complexity:** O(V), due to the visited set and the recursion call stack.\n",
    "\n",
    "**Pros:**\n",
    "\n",
    "- Easy to implement and understand.\n",
    "- Naturally fits recursive problems.\n",
    "- Good for problems where the maximum depth is manageable.\n",
    "\n",
    "**Cons:**\n",
    "\n",
    "- May cause a stack overflow for very deep or large graphs.\n",
    "- Recursion can be less efficient due to function call overhead."
   ],
   "id": "320b1e859a624d81"
  },
  {
   "metadata": {},
   "cell_type": "markdown",
   "source": [
    "## Alternative Implementation: Iterative DFS Using a Stack\n",
    "\n",
    "```python\n",
    "def dfs_iterative(graph, start_node):\n",
    "    visited = set()\n",
    "    stack = [start_node]  # Initialize the stack with the start node\n",
    "    while stack:\n",
    "        node = stack.pop()  # Pop a node from the stack\n",
    "        if node not in visited:\n",
    "            visited.add(node)  # Mark the node as visited\n",
    "            # Add unvisited neighbors to the stack\n",
    "            stack.extend(neighbor for neighbor in graph[node] if neighbor not in visited)\n",
    "    return visited\n",
    "```\n",
    "\n",
    "**Runtime Analysis:**\n",
    "\n",
    "- **Time Complexity:** O(V + E), same as the recursive version.\n",
    "- **Space Complexity:** O(V), due to the visited set and the stack.\n",
    "\n",
    "**Pros:**\n",
    "\n",
    "- Avoids recursion and potential stack overflow.\n",
    "- More control over the traversal process.\n",
    "- Efficient for large or deep graphs.\n",
    "\n",
    "**Cons:**\n",
    "\n",
    "- Slightly more complex code than the recursive version.\n",
    "- Stack management can be less intuitive."
   ],
   "id": "a3761b3617854c42"
  },
  {
   "metadata": {},
   "cell_type": "markdown",
   "source": [
    "## Example Problem: Connected Components in an Undirected Graph\n",
    "\n",
    "**Problem Statement:**\n",
    "\n",
    "Given an undirected graph, count the number of connected components.\n",
    "\n",
    "**Example:**\n",
    "\n",
    "```plaintext\n",
    "Graph:\n",
    "    0 --- 1     3\n",
    "            \\   /\n",
    "             2\n",
    "\n",
    "Expected Output: 2 connected components\n",
    "```"
   ],
   "id": "175b4dc34a602fcc"
  },
  {
   "metadata": {},
   "cell_type": "markdown",
   "source": [
    "**Solution Using DFS:**\n",
    "\n",
    "We can perform DFS starting from each unvisited node, incrementing the count of connected components each time we start a new DFS traversal."
   ],
   "id": "71c7e79b6b8f96cb"
  },
  {
   "metadata": {
    "ExecuteTime": {
     "end_time": "2024-10-01T10:32:52.993523Z",
     "start_time": "2024-10-01T10:32:52.988629Z"
    }
   },
   "cell_type": "code",
   "source": [
    "def count_connected_components(graph):\n",
    "    visited = set()\n",
    "    count = 0\n",
    "    for node in graph:\n",
    "        if node not in visited:\n",
    "            dfs_recursive(graph, node, visited)\n",
    "            count += 1\n",
    "    return count\n",
    "\n",
    "\n",
    "def dfs_recursive(graph, node, visited):\n",
    "    visited.add(node)\n",
    "    for neighbor in graph[node]:\n",
    "        if neighbor not in visited:\n",
    "            dfs_recursive(graph, neighbor, visited)"
   ],
   "id": "17f3f47e5caf8603",
   "outputs": [],
   "execution_count": 1
  },
  {
   "metadata": {
    "ExecuteTime": {
     "end_time": "2024-10-01T10:32:52.996688Z",
     "start_time": "2024-10-01T10:32:52.994546Z"
    }
   },
   "cell_type": "code",
   "source": [
    "# Test the function\n",
    "graph = {\n",
    "    0: [1],\n",
    "    1: [0, 2],\n",
    "    2: [1, 3],\n",
    "    3: [2],\n",
    "    4: []\n",
    "}\n",
    "\n",
    "print(f\"Number of connected components: {count_connected_components(graph)}\")  # Expected Output: 2"
   ],
   "id": "8ddb29812b80b16e",
   "outputs": [
    {
     "name": "stdout",
     "output_type": "stream",
     "text": [
      "Number of connected components: 2\n"
     ]
    }
   ],
   "execution_count": 2
  },
  {
   "metadata": {},
   "cell_type": "markdown",
   "source": [
    "**Explanation:**\n",
    "\n",
    "- Nodes 0, 1, 2, and 3 are connected.\n",
    "- Node 4 is isolated.\n",
    "- Therefore, there are **2 connected components**."
   ],
   "id": "71706453954d648a"
  }
 ],
 "metadata": {
  "kernelspec": {
   "display_name": "Python 3",
   "language": "python",
   "name": "python3"
  },
  "language_info": {
   "codemirror_mode": {
    "name": "ipython",
    "version": 2
   },
   "file_extension": ".py",
   "mimetype": "text/x-python",
   "name": "python",
   "nbconvert_exporter": "python",
   "pygments_lexer": "ipython2",
   "version": "2.7.6"
  }
 },
 "nbformat": 4,
 "nbformat_minor": 5
}
