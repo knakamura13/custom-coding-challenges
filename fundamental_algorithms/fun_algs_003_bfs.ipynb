{
 "cells": [
  {
   "metadata": {},
   "cell_type": "markdown",
   "source": [
    "# Fundamental Algorithm #3: Breadth First Search (BFS)\n",
    "\n",
    "Breadth First Search (BFS) is an algorithm for traversing or searching tree or graph data structures. It starts at a selected node (often called the 'root') and explores all neighbor nodes at the present depth before moving on to nodes at the next depth level. BFS is commonly used in problems that require finding the shortest path, level-order traversal, or checking connectivity in graphs. Variants include BFS on weighted graphs and modifications like Dijkstra's Algorithm for shortest paths.\n",
    "\n",
    "**Algorithm Implementation**\n",
    "\n",
    "1. Initialize a queue and add the starting node to it.\n",
    "2. Mark the starting node as visited.\n",
    "3. While the queue is not empty:\n",
    "   - Dequeue a node from the queue.\n",
    "   - For each unvisited neighbor of the node:\n",
    "     - Mark it as visited.\n",
    "     - Enqueue the neighbor.\n",
    "\n",
    "**Concepts and Data Structures**\n",
    "\n",
    "- Graphs (Directed and Undirected)\n",
    "- Trees (a special case of graphs)\n",
    "- Queues\n",
    "- Level-Order Traversal\n",
    "- Adjacency Lists and Matrices"
   ],
   "id": "cbd367ee8368ef09"
  },
  {
   "metadata": {},
   "cell_type": "markdown",
   "source": [
    "## Simple Implementation - BFS Using a Queue\n",
    "\n",
    "```python\n",
    "from collections import deque\n",
    "\n",
    "def bfs(graph, start_node):\n",
    "    visited = set()\n",
    "    queue = deque([start_node])  # Initialize the queue with the start node\n",
    "    visited.add(start_node)      # Mark the start node as visited\n",
    "    while queue:\n",
    "        node = queue.popleft()   # Dequeue a node from the queue\n",
    "        for neighbor in graph[node]:\n",
    "            if neighbor not in visited:\n",
    "                visited.add(neighbor)      # Mark neighbor as visited\n",
    "                queue.append(neighbor)     # Enqueue the neighbor\n",
    "    return visited\n",
    "```\n",
    "\n",
    "**Runtime Analysis:**\n",
    "\n",
    "- **Time Complexity:** O(V + E), where V is the number of vertices and E is the number of edges.\n",
    "- **Space Complexity:** O(V), due to the visited set and the queue.\n",
    "\n",
    "**Pros:**\n",
    "\n",
    "- Guarantees the shortest path (in terms of the number of edges) in unweighted graphs.\n",
    "- Useful for level-order traversal.\n",
    "- Simple and intuitive implementation.\n",
    "\n",
    "**Cons:**\n",
    "\n",
    "- Can consume more memory than DFS due to the queue storing all nodes at the current level.\n",
    "- Not suitable for graphs with high branching factors without optimizations."
   ],
   "id": "beb635e55ece9769"
  },
  {
   "metadata": {},
   "cell_type": "markdown",
   "source": [
    "## Alternative Implementation: BFS for Shortest Path\n",
    "\n",
    "In some cases, we might want to find the actual shortest path from the start node to a target node.\n",
    "\n",
    "```python\n",
    "from collections import deque\n",
    "\n",
    "def bfs_shortest_path(graph, start_node, target_node):\n",
    "    visited = set()\n",
    "    queue = deque([(start_node, [start_node])])  # Store tuples of (node, path)\n",
    "    visited.add(start_node)\n",
    "    while queue:\n",
    "        node, path = queue.popleft()\n",
    "        if node == target_node:\n",
    "            return path  # Shortest path found\n",
    "        for neighbor in graph[node]:\n",
    "            if neighbor not in visited:\n",
    "                visited.add(neighbor)\n",
    "                queue.append((neighbor, path + [neighbor]))\n",
    "    return None  # Path not found\n",
    "```\n",
    "\n",
    "**Runtime Analysis:**\n",
    "\n",
    "- **Time Complexity:** O(V + E), similar to standard BFS.\n",
    "- **Space Complexity:** O(V), due to the visited set, queue, and path storage.\n",
    "\n",
    "**Pros:**\n",
    "\n",
    "- Finds the shortest path between two nodes.\n",
    "- Returns the actual path, not just the length.\n",
    "\n",
    "**Cons:**\n",
    "\n",
    "- Increased space complexity due to storing paths.\n",
    "- Slightly more complex implementation."
   ],
   "id": "9e9ec979789113a2"
  },
  {
   "metadata": {},
   "cell_type": "markdown",
   "source": [
    "## Example Problem: Shortest Path in an Unweighted Graph\n",
    "\n",
    "**Problem Statement:**\n",
    "\n",
    "Given an unweighted, undirected graph, find the shortest path between two nodes.\n",
    "\n",
    "**Example:**\n",
    "\n",
    "```plaintext\n",
    "Graph:\n",
    "        A\n",
    "       / \\\n",
    "      B   C\n",
    "       \\ /\n",
    "        D\n",
    "       / \\\n",
    "      E   F\n",
    "\n",
    "Find the shortest path from 'A' to 'E'.\n",
    "\n",
    "Expected Output: ['A', 'B', 'D', 'E']\n",
    "```"
   ],
   "id": "cb89a005529e159d"
  },
  {
   "metadata": {},
   "cell_type": "markdown",
   "source": [
    "**Solution Using BFS:**\n",
    "\n",
    "We'll use BFS to find the shortest path from the start node to the target node."
   ],
   "id": "a48ca3574f2ffecb"
  },
  {
   "metadata": {
    "ExecuteTime": {
     "end_time": "2024-10-01T10:32:54.383815Z",
     "start_time": "2024-10-01T10:32:54.378217Z"
    }
   },
   "cell_type": "code",
   "source": [
    "from collections import deque\n",
    "\n",
    "\n",
    "def bfs_shortest_path(graph, start_node, target_node):\n",
    "    visited = set()\n",
    "    queue = deque([(start_node, [start_node])])  # Store tuples of (node, path)\n",
    "    visited.add(start_node)\n",
    "    while queue:\n",
    "        node, path = queue.popleft()\n",
    "        if node == target_node:\n",
    "            return path  # Shortest path found\n",
    "        for neighbor in graph[node]:\n",
    "            if neighbor not in visited:\n",
    "                visited.add(neighbor)\n",
    "                queue.append((neighbor, path + [neighbor]))\n",
    "    return None  # Path not found"
   ],
   "id": "d60dd8707740c369",
   "outputs": [],
   "execution_count": 1
  },
  {
   "metadata": {
    "ExecuteTime": {
     "end_time": "2024-10-01T10:32:54.387295Z",
     "start_time": "2024-10-01T10:32:54.384945Z"
    }
   },
   "cell_type": "code",
   "source": [
    "# Test the function\n",
    "graph = {\n",
    "    'A': ['B', 'C'],\n",
    "    'B': ['A', 'D'],\n",
    "    'C': ['A', 'D'],\n",
    "    'D': ['B', 'C', 'E', 'F'],\n",
    "    'E': ['D'],\n",
    "    'F': ['D']\n",
    "}\n",
    "\n",
    "path = bfs_shortest_path(graph, 'A', 'E')\n",
    "print(f\"Shortest path from 'A' to 'E': {path}\")  # Expected Output: ['A', 'B', 'D', 'E']"
   ],
   "id": "f87ef59d9b1ba360",
   "outputs": [
    {
     "name": "stdout",
     "output_type": "stream",
     "text": [
      "Shortest path from 'A' to 'E': ['A', 'B', 'D', 'E']\n"
     ]
    }
   ],
   "execution_count": 2
  },
  {
   "metadata": {},
   "cell_type": "markdown",
   "source": [
    "**Explanation:**\n",
    "\n",
    "- BFS explores nodes in layers, ensuring the shortest path in terms of edge count.\n",
    "- The algorithm keeps track of the path taken to reach each node.\n",
    "- The shortest path from 'A' to 'E' is `['A', 'B', 'D', 'E']`."
   ],
   "id": "d03a6df29b65ebbb"
  },
  {
   "metadata": {},
   "cell_type": "markdown",
   "source": [
    "**Key Takeaways:**\n",
    "\n",
    "- BFS is ideal for finding the shortest path in unweighted graphs.\n",
    "- Using a queue is essential to explore nodes level by level.\n",
    "- Modifying BFS to store paths allows retrieval of the actual shortest path, not just its length.\n",
    "- BFS can be adapted for various problems like level-order traversal, checking bipartiteness, and finding connected components.\n",
    "\n",
    "**Additional Notes:**\n",
    "\n",
    "- **Edge Case Handling:**\n",
    "  - Ensure the graph does not contain cycles that could cause infinite loops if nodes are not marked as visited.\n",
    "  - Handle disconnected graphs appropriately.\n",
    "  \n",
    "- **Variants of BFS:**\n",
    "  - **Weighted Graphs:** For graphs with weights, algorithms like Dijkstra's Algorithm are used instead.\n",
    "  - **Bidirectional BFS:** For finding the shortest path between two nodes more efficiently by simultaneously exploring from both nodes.\n",
    "\n",
    "**Common Pitfalls and Tips:**\n",
    "\n",
    "- **Visited Nodes:** Always mark nodes as visited when they are enqueued, not when dequeued, to prevent multiple enqueues of the same node.\n",
    "- **Queue Implementation:** Use `collections.deque` for efficient queue operations.\n",
    "- **Space Complexity:** Be mindful of the increased space usage in BFS compared to DFS, especially in graphs with high branching factors.\n",
    "\n",
    "**Practice Problems:**\n",
    "\n",
    "- **LeetCode Problem #102:** [Binary Tree Level Order Traversal](https://leetcode.com/problems/binary-tree-level-order-traversal/)\n",
    "- **LeetCode Problem #127:** [Word Ladder](https://leetcode.com/problems/word-ladder/)\n",
    "- **LeetCode Problem #133:** [Clone Graph](https://leetcode.com/problems/clone-graph/)\n",
    "\n",
    "**Real-World Applications:**\n",
    "\n",
    "- **Social Networks:** Finding degrees of separation between people.\n",
    "- **Web Crawlers:** Crawling websites level by level.\n",
    "- **Network Broadcasting:** Spreading information in a network efficiently."
   ],
   "id": "d1e92dbdce5ac1b7"
  },
  {
   "metadata": {
    "ExecuteTime": {
     "end_time": "2024-10-01T10:32:54.389389Z",
     "start_time": "2024-10-01T10:32:54.388149Z"
    }
   },
   "cell_type": "code",
   "source": "",
   "id": "5bb92640d8827714",
   "outputs": [],
   "execution_count": 2
  }
 ],
 "metadata": {
  "kernelspec": {
   "display_name": "Python 3",
   "language": "python",
   "name": "python3"
  },
  "language_info": {
   "codemirror_mode": {
    "name": "ipython",
    "version": 2
   },
   "file_extension": ".py",
   "mimetype": "text/x-python",
   "name": "python",
   "nbconvert_exporter": "python",
   "pygments_lexer": "ipython2",
   "version": "2.7.6"
  }
 },
 "nbformat": 4,
 "nbformat_minor": 5
}
