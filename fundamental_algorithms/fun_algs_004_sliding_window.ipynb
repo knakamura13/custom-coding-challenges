{
 "cells": [
  {
   "metadata": {},
   "cell_type": "markdown",
   "source": [
    "# Fundamental Algorithm #4: Sliding Window\n",
    "\n",
    "The Sliding Window technique is a method for efficiently solving problems that involve arrays or strings by maintaining a subset of elements within a window frame over the data structure. It's commonly used in problems that require finding subarrays or substrings that satisfy certain conditions (e.g., maximum/minimum sums, unique elements, matching patterns). Variants include fixed-size windows, dynamic windows that expand and contract, and techniques for handling edge cases.\n",
    "\n",
    "**Algorithm Implementation**\n",
    "\n",
    "1. **Initialize** variables to track the window's start and end positions, as well as any other required data (e.g., current sum, character counts).\n",
    "2. **Iterate** over the array or string using a loop:\n",
    "   - **Expand** the window by moving the end pointer.\n",
    "   - **Update** the state (e.g., add the new element to the current sum).\n",
    "   - **Check** if the current window satisfies the problem's condition.\n",
    "   - **If necessary**, **shrink** the window by moving the start pointer and update the state accordingly.\n",
    "3. **Repeat** until the end of the array or string is reached.\n",
    "4. **Return** the result based on the problem's requirement (e.g., maximum sum, indices of the window).\n",
    "\n",
    "**Concepts and Data Structures**\n",
    "\n",
    "- Arrays and Strings\n",
    "- Two Pointers Technique\n",
    "- Hash Maps or Dictionaries\n",
    "- Queues and Deques (for some variants)\n",
    "- Prefix Sums (related concept)"
   ],
   "id": "f6a898c4a2f17ac5"
  },
  {
   "metadata": {},
   "cell_type": "markdown",
   "source": [
    "## Simple Implementation - Fixed-Size Sliding Window\n",
    "\n",
    "Consider the problem of finding the maximum sum of a subarray of size `k` in an array.\n",
    "\n",
    "```python\n",
    "def max_subarray_sum(nums, k):\n",
    "    if not nums or k <= 0 or k > len(nums):\n",
    "        return 0\n",
    "\n",
    "    max_sum = current_sum = sum(nums[:k])  # Sum of the first window\n",
    "    for i in range(k, len(nums)):\n",
    "        current_sum += nums[i] - nums[i - k]  # Slide the window forward\n",
    "        max_sum = max(max_sum, current_sum)\n",
    "    return max_sum\n",
    "```\n",
    "\n",
    "**Runtime Analysis:**\n",
    "\n",
    "- **Time Complexity:** O(n), where n is the number of elements in the array. Each element is visited once.\n",
    "- **Space Complexity:** O(1), since it uses a constant amount of extra space.\n",
    "\n",
    "**Pros:**\n",
    "\n",
    "- Efficient for fixed-size window problems.\n",
    "- Simple and easy to implement.\n",
    "- Constant space complexity.\n",
    "\n",
    "**Cons:**\n",
    "\n",
    "- Only applicable when the window size is fixed.\n",
    "- May not handle variable window sizes or more complex conditions."
   ],
   "id": "20fefe4c8567fb3"
  },
  {
   "metadata": {},
   "cell_type": "markdown",
   "source": [
    "## Alternative Implementation: Dynamic-Size Sliding Window\n",
    "\n",
    "For problems where the window size varies based on conditions, we need a dynamic sliding window. For example, finding the length of the smallest subarray with a sum greater than or equal to a target value.\n",
    "\n",
    "```python\n",
    "def min_subarray_len(target, nums):\n",
    "    left = 0\n",
    "    current_sum = 0\n",
    "    min_length = float('inf')\n",
    "    for right in range(len(nums)):\n",
    "        current_sum += nums[right]  # Expand the window\n",
    "        while current_sum >= target:\n",
    "            min_length = min(min_length, right - left + 1)\n",
    "            current_sum -= nums[left]  # Shrink the window\n",
    "            left += 1\n",
    "    return min_length if min_length != float('inf') else 0\n",
    "```\n",
    "\n",
    "**Runtime Analysis:**\n",
    "\n",
    "- **Time Complexity:** O(n), as each element is visited at most twice (once when the right pointer moves, once when the left pointer moves).\n",
    "- **Space Complexity:** O(1), constant extra space.\n",
    "\n",
    "**Pros:**\n",
    "\n",
    "- Handles variable window sizes efficiently.\n",
    "- Suitable for problems with cumulative conditions (e.g., sum, counts).\n",
    "- Still maintains linear time complexity.\n",
    "\n",
    "**Cons:**\n",
    "\n",
    "- Slightly more complex implementation.\n",
    "- Requires careful handling of the window expansion and contraction."
   ],
   "id": "7330b48619c35c0c"
  },
  {
   "metadata": {},
   "cell_type": "markdown",
   "source": [
    "## Example Problem: Longest Substring Without Repeating Characters\n",
    "\n",
    "**Problem Statement:**\n",
    "\n",
    "Given a string `s`, find the length of the longest substring without repeating characters.\n",
    "\n",
    "**Example:**\n",
    "\n",
    "```plaintext\n",
    "Input: s = \"abcabcbb\"\n",
    "Output: 3\n",
    "Explanation: The answer is \"abc\", with the length of 3.\n",
    "```"
   ],
   "id": "5ea509d2177c618f"
  },
  {
   "metadata": {},
   "cell_type": "markdown",
   "source": [
    "**Solution Using Sliding Window:**\n",
    "\n",
    "We'll use a dynamic sliding window to track the current substring without duplicates. We'll expand the window by moving the right pointer, and if we encounter a repeating character, we'll shrink the window from the left."
   ],
   "id": "b563a19674587eea"
  },
  {
   "metadata": {
    "ExecuteTime": {
     "end_time": "2024-10-01T10:32:55.760040Z",
     "start_time": "2024-10-01T10:32:55.755210Z"
    }
   },
   "cell_type": "code",
   "source": [
    "def length_of_longest_substring(s):\n",
    "    char_index_map = {}\n",
    "    left = max_length = 0\n",
    "    for right, char in enumerate(s):\n",
    "        if char in char_index_map and char_index_map[char] >= left:\n",
    "            left = char_index_map[char] + 1  # Move left pointer\n",
    "        char_index_map[char] = right  # Update or add the char's index\n",
    "        max_length = max(max_length, right - left + 1)\n",
    "    return max_length"
   ],
   "id": "fd1f7039e3a7c983",
   "outputs": [],
   "execution_count": 1
  },
  {
   "cell_type": "code",
   "id": "initial_id",
   "metadata": {
    "collapsed": true,
    "ExecuteTime": {
     "end_time": "2024-10-01T10:32:55.763247Z",
     "start_time": "2024-10-01T10:32:55.761160Z"
    }
   },
   "source": [
    "# Test the function\n",
    "s = \"abcabcbb\"\n",
    "print(f\"Length of longest substring without repeating characters: {length_of_longest_substring(s)}\")  # Expected Output: 3"
   ],
   "outputs": [
    {
     "name": "stdout",
     "output_type": "stream",
     "text": [
      "Length of longest substring without repeating characters: 3\n"
     ]
    }
   ],
   "execution_count": 2
  },
  {
   "metadata": {},
   "cell_type": "markdown",
   "source": [
    "**Runtime Analysis:**\n",
    "\n",
    "- **Time Complexity:** O(n), where n is the length of the string.\n",
    "- **Space Complexity:** O(min(n, m)), where m is the size of the character set.\n",
    "\n",
    "**Explanation:**\n",
    "\n",
    "- We maintain a mapping of characters to their latest indices.\n",
    "- When a repeating character is found within the current window, we adjust the left pointer to exclude the previous occurrence.\n",
    "- The maximum length is updated during each iteration."
   ],
   "id": "18611140a6313553"
  },
  {
   "metadata": {},
   "cell_type": "markdown",
   "source": [
    "## **Variants of Sliding Window**\n",
    "- **Maximum/Minimum of All Subarrays of Size K:** Using deque to find maximum/minimum in O(n).\n",
    "- **Anagrams in a String:** Finding all start indices of anagrams of a pattern in a text.\n",
    "\n",
    "```python\n",
    "# Example: Maximum of All Subarrays of Size K\n",
    "from collections import deque\n",
    "\n",
    "def max_sliding_window(nums, k):\n",
    "    result = []\n",
    "    deq = deque()\n",
    "    for i, num in enumerate(nums):\n",
    "        # Remove indices outside the current window\n",
    "        if deq and deq[0] == i - k:\n",
    "            deq.popleft()\n",
    "        # Remove smaller numbers in k range as they are useless\n",
    "        while deq and nums[deq[-1]] < num:\n",
    "            deq.pop()\n",
    "        deq.append(i)\n",
    "        # Append the current max to the result\n",
    "        if i >= k - 1:\n",
    "            result.append(nums[deq[0]])\n",
    "    return result\n",
    "\n",
    "# Test the function\n",
    "print(max_sliding_window([1,3,-1,-3,5,3,6,7], 3))  # Expected Output: [3,3,5,5,6,7]"
   ],
   "id": "6879e662bc55d517"
  },
  {
   "metadata": {},
   "cell_type": "markdown",
   "source": [
    "## **Additional Notes**\n",
    "\n",
    "**Edge Case Handling:**\n",
    "- Ensure to handle empty arrays or strings.\n",
    "- Be cautious with window boundaries to avoid index errors.\n",
    "\n",
    "**Practice Problems:**\n",
    "- **LeetCode Problem #3:** [Longest Substring Without Repeating Characters](https://leetcode.com/problems/longest-substring-without-repeating-characters/)\n",
    "- **LeetCode Problem #209:** [Minimum Size Subarray Sum](https://leetcode.com/problems/minimum-size-subarray-sum/)\n",
    "- **LeetCode Problem #239:** [Sliding Window Maximum](https://leetcode.com/problems/sliding-window-maximum/)\n",
    "\n",
    "**Common Pitfalls and Tips:**\n",
    "- **Off-by-One Errors:** Be careful with indices when moving pointers.\n",
    "- **Infinite Loops:** Ensure the window adjustments lead towards termination.\n",
    "- **Updating State:** When shrinking the window, make sure to update any counters or data structures accordingly.\n",
    "\n",
    "**Real-World Applications:**\n",
    "- **Network Data Processing:** Monitoring data over a window of time.\n",
    "- **Signal Processing:** Analyzing segments of signals for patterns.\n",
    "- **Stock Market Analysis:** Calculating moving averages over a period."
   ],
   "id": "f153ad875e47dbf6"
  },
  {
   "metadata": {
    "ExecuteTime": {
     "end_time": "2024-10-01T10:32:55.765164Z",
     "start_time": "2024-10-01T10:32:55.763949Z"
    }
   },
   "cell_type": "code",
   "source": "",
   "id": "8e3bb5e0d54569b1",
   "outputs": [],
   "execution_count": 2
  }
 ],
 "metadata": {
  "kernelspec": {
   "display_name": "Python 3",
   "language": "python",
   "name": "python3"
  },
  "language_info": {
   "codemirror_mode": {
    "name": "ipython",
    "version": 2
   },
   "file_extension": ".py",
   "mimetype": "text/x-python",
   "name": "python",
   "nbconvert_exporter": "python",
   "pygments_lexer": "ipython2",
   "version": "2.7.6"
  }
 },
 "nbformat": 4,
 "nbformat_minor": 5
}
