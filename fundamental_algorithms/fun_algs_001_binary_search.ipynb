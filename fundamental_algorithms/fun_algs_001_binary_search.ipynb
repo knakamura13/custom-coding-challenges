{
 "cells": [
  {
   "metadata": {},
   "cell_type": "markdown",
   "source": [
    "# Fundamental Algorithm #1: Binary Search\n",
    "\n",
    "Binary Search is an efficient algorithm for finding a target value within a sorted array by repeatedly dividing the search interval in half. It's commonly used in coding problems that require searching for elements, determining insertion points, or finding boundary conditions in sorted data. Common variants include searches for the first or last occurrence of a target and finding the smallest or largest element that satisfies a given condition.\n",
    "\n",
    "**Algorithm Implementation**\n",
    "1. Initialize two pointers, `left` and `right`, to the start and end indices of the array.\n",
    "2. While `left` is less than or equal to `right`, perform the following steps:\n",
    "   1. Calculate the middle index `mid` as `left + (right - left) // 2`.\n",
    "   2. Compare the target value to the element at `mid`.\n",
    "   3. If the target equals the element at `mid`, return `mid`.\n",
    "   4. If the target is less than the element at `mid`, set `right = mid - 1` to focus on the left half.\n",
    "   5. If the target is greater than the element at `mid`, set `left = mid + 1` to focus on the right half.\n",
    "3. If the target is not found after the loop ends, return an indicator of failure (e.g., `-1`).\n",
    "\n",
    "**Concepts and Data Structures**\n",
    "  - Arrays and Lists\n",
    "  - Divide and Conquer Strategy\n",
    "  - Two Pointers Technique\n",
    "  - Iteration and Recursion\n",
    "  - Sorted Data Structures"
   ],
   "id": "b5f9e450c580eefe"
  },
  {
   "metadata": {},
   "cell_type": "markdown",
   "source": [
    "## Simple Implementation - Iterative Approach\n",
    "\n",
    "```python\n",
    "def binary_search(nums, target):\n",
    "    left, right = 0, len(nums) - 1  # Initialize pointers\n",
    "    while left <= right:\n",
    "        mid = left + (right - left) // 2  # Calculate mid index\n",
    "        if nums[mid] == target:\n",
    "            return mid  # Target found at index mid\n",
    "        elif nums[mid] < target:\n",
    "            left = mid + 1  # Focus on the right half\n",
    "        else:\n",
    "            right = mid - 1  # Focus on the left half\n",
    "    return -1  # Target not found\n",
    "```\n",
    "\n",
    "**Runtime Analysis:**\n",
    "\n",
    "- **Time Complexity:** O(log n), where n is the number of elements in the array. The search space is halved with each iteration.\n",
    "- **Space Complexity:** O(1), since it uses a constant amount of extra space.\n",
    "\n",
    "**Pros:**\n",
    "\n",
    "- Straightforward and easy to implement.\n",
    "- Efficient for large, sorted datasets.\n",
    "- Constant space complexity.\n",
    "\n",
    "**Cons:**\n",
    "\n",
    "- Requires the input array to be sorted.\n",
    "- Iterative implementation may be less intuitive for problems that naturally fit recursive patterns.\n",
    "- Edge cases (e.g., empty arrays) need careful handling."
   ],
   "id": "4d2533af6450718d"
  },
  {
   "metadata": {},
   "cell_type": "markdown",
   "source": [
    "## Alternative Implementation: Recursive Binary Search\n",
    "\n",
    "An alternative to the iterative approach is the recursive implementation. This method can be more intuitive when dealing with problems that have a natural recursive structure.\n",
    "\n",
    "```python\n",
    "def recursive_binary_search(nums, target, left, right):\n",
    "    if left > right:\n",
    "        return -1  # Base case: target not found\n",
    "    mid = left + (right - left) // 2  # Calculate mid index\n",
    "    if nums[mid] == target:\n",
    "        return mid  # Target found\n",
    "    elif nums[mid] < target:\n",
    "        return recursive_binary_search(nums, target, mid + 1, right)  # Search right half\n",
    "    else:\n",
    "        return recursive_binary_search(nums, target, left, mid - 1)  # Search left half\n",
    "\n",
    "# Helper function to initiate the recursive search\n",
    "def binary_search_recursive(nums, target):\n",
    "    return recursive_binary_search(nums, target, 0, len(nums) - 1)\n",
    "```\n",
    "\n",
    "**Runtime Analysis:**\n",
    "\n",
    "- **Time Complexity:** O(log n), similar to the iterative version.\n",
    "- **Space Complexity:** O(log n), due to the call stack used in recursion.\n",
    "\n",
    "**Pros:**\n",
    "\n",
    "- Can be more intuitive for certain problems.\n",
    "- Cleaner code when dealing with complex variants or additional parameters.\n",
    "\n",
    "**Cons:**\n",
    "\n",
    "- Higher space complexity because of recursive call stack.\n",
    "- Risk of stack overflow for very large datasets.\n",
    "- Slightly less efficient due to function call overhead."
   ],
   "id": "a5010018730739f9"
  },
  {
   "metadata": {},
   "cell_type": "markdown",
   "source": [
    "## Example Problem: Search Insert Position\n",
    "\n",
    "**Problem Statement:**\n",
    "\n",
    "Given a sorted array of distinct integers and a target value, return the index if the target is found. If not, return the index where it would be if it were inserted in order.\n",
    "\n",
    "**Example 1:**\n",
    "\n",
    "```plaintext\n",
    "Input: nums = [1, 3, 5, 6], target = 5\n",
    "Output: 2\n",
    "```\n",
    "\n",
    "**Example 2:**\n",
    "\n",
    "```plaintext\n",
    "Input: nums = [1, 3, 5, 6], target = 2\n",
    "Output: 1\n",
    "```"
   ],
   "id": "1b5e0c1a4dc11c15"
  },
  {
   "metadata": {},
   "cell_type": "markdown",
   "source": "**Solution Using Binary Search:**",
   "id": "ff9fe4e6d67f6a6f"
  },
  {
   "metadata": {
    "ExecuteTime": {
     "end_time": "2024-10-01T10:32:51.865206Z",
     "start_time": "2024-10-01T10:32:51.861041Z"
    }
   },
   "cell_type": "code",
   "source": [
    "def search_insert(nums, target):\n",
    "    left, right = 0, len(nums) - 1  # Initialize pointers\n",
    "    while left <= right:\n",
    "        mid = left + (right - left) // 2  # Calculate mid index\n",
    "        if nums[mid] == target:\n",
    "            return mid  # Target found at index mid\n",
    "        elif nums[mid] < target:\n",
    "            left = mid + 1  # Move left pointer to mid + 1\n",
    "        else:\n",
    "            right = mid - 1  # Move right pointer to mid - 1\n",
    "    return left  # Target not found, return insertion point"
   ],
   "id": "fd15e7fc44f52a2a",
   "outputs": [],
   "execution_count": 1
  },
  {
   "metadata": {
    "ExecuteTime": {
     "end_time": "2024-10-01T10:32:51.868287Z",
     "start_time": "2024-10-01T10:32:51.866296Z"
    }
   },
   "cell_type": "code",
   "source": [
    "# Test the function\n",
    "print(search_insert([1, 3, 5, 6], 2))  # Expected Output: 1"
   ],
   "id": "f08253cbefd6a943",
   "outputs": [
    {
     "name": "stdout",
     "output_type": "stream",
     "text": [
      "1\n"
     ]
    }
   ],
   "execution_count": 2
  },
  {
   "metadata": {},
   "cell_type": "markdown",
   "source": [
    "**Explanation:**\n",
    "\n",
    "- The target value `2` is not in the array.\n",
    "- Using binary search, we determine that `2` would be inserted at index `1` to maintain the sorted order."
   ],
   "id": "63f78c504cdbf38e"
  }
 ],
 "metadata": {
  "kernelspec": {
   "display_name": "Python 3",
   "language": "python",
   "name": "python3"
  },
  "language_info": {
   "codemirror_mode": {
    "name": "ipython",
    "version": 2
   },
   "file_extension": ".py",
   "mimetype": "text/x-python",
   "name": "python",
   "nbconvert_exporter": "python",
   "pygments_lexer": "ipython2",
   "version": "2.7.6"
  }
 },
 "nbformat": 4,
 "nbformat_minor": 5
}
